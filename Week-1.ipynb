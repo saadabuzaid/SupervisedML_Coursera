{
 "cells": [
  {
   "cell_type": "markdown",
   "metadata": {},
   "source": [
    "# Supervised Machine Learning Course by Andrew Ng on Coursera notes"
   ]
  },
  {
   "cell_type": "markdown",
   "metadata": {},
   "source": [
    "### **Supervised machine learning is giving the machine a data set with features(x) and their output (y) to build a model that can estimate/predict output (Y-hat) given features' values**\n",
    " This supervised machine learning model can be either:\n",
    "* **Regression model**: Predicts/estimates a value out of infinite number of possible values. \\\n",
    "        *e.g. Preidicting houses prices given features* \\\n",
    "        <br>\n",
    "* **Classification model**: Classifies the entry into small number of different classes/categores, can be numberical or non-numerical. \\\n",
    "        *e.g. classifying a picture whether it is a dog or a cat*"
   ]
  },
  {
   "cell_type": "markdown",
   "metadata": {},
   "source": [
    "#### Linear regression:\n",
    "With linear regression, we are trying to build a model that is trying to recognise a numerical pattern with its given dataset (a set of data with features/inputs and actual outputs). This numerical pattern is a mathematical formula.\n",
    "\n",
    "**How can we know which formula to use?** \\\n",
    "This is where the machine learning comes in! The machine's objective is to learn what is the best mathematical to satisfy the output (y) with the given inputs/featues (x).\n",
    "\n",
    "**What does satisfying the output mean?** \\\n",
    "It means predicting the actual output value in the dataset using its inputs/features, and it does the same for all entries (Xs & Y) in the dataset. The better the formula is at satsfying all data entries from your dataset, the better your model is.\n",
    "\n",
    "![Linear regression example](/pictures/Linear%20regression%20example.png)\n",
    "\n",
    "\n",
    "#### Classification:\n",
    "A Classification model will try to learn the best mathematical formula just like linear regression, but there is one difference. Linear regression will try to find a linear formual to satisfy outputs by predicting output value, but in a Classification model, the formula will by trying to draw a border line instead!\n",
    "This border line will create different zones in the graph, which are classes. Using features, if they fall into a specific zone, it means that they would be classified as the class/zone they fall in.\n",
    "\n",
    "![Classification example](/pictures/Classification%20example.png)\n"
   ]
  },
  {
   "cell_type": "markdown",
   "metadata": {},
   "source": []
  }
 ],
 "metadata": {
  "kernelspec": {
   "display_name": "Python 3",
   "language": "python",
   "name": "python3"
  },
  "language_info": {
   "name": "python",
   "version": "3.11.5"
  }
 },
 "nbformat": 4,
 "nbformat_minor": 2
}
