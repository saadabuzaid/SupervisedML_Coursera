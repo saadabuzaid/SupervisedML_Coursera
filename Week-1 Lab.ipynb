{
 "cells": [
  {
   "cell_type": "markdown",
   "metadata": {},
   "source": [
    "### **Supervised machine linear regression practice lab** <sup>![Week-1 notes](Week-1.ipynb)</sup>"
   ]
  },
  {
   "cell_type": "markdown",
   "metadata": {},
   "source": [
    "#### Importing Libraries"
   ]
  },
  {
   "cell_type": "code",
   "execution_count": 3,
   "metadata": {},
   "outputs": [],
   "source": [
    "import pandas as pd\n",
    "import matplotlib as plt"
   ]
  },
  {
   "cell_type": "markdown",
   "metadata": {},
   "source": [
    "#### Create squared loss function"
   ]
  },
  {
   "cell_type": "code",
   "execution_count": 5,
   "metadata": {},
   "outputs": [],
   "source": [
    "def calc_mean_squared_loss(x_list, y_list, w, b):\n",
    "    if(len(x_list) != len(y_list)):\n",
    "        print(\"List of features is not equal to outputs given in the dataset\")\n",
    "        exit()\n",
    "\n",
    "    cost = 0\n",
    "    dataset_length = len(x_list)\n",
    "    \n",
    "    for index in dataset_length:\n",
    "        y_hat = (w * x_list[index]) + b\n",
    "        diff = (y_hat - y_list[index])\n",
    "        cost += (1/(2 * dataset_length) * pow(diff,2))\n",
    "    \n",
    "    print(\"Created squared mean loss function\")\n",
    "    return cost"
   ]
  },
  {
   "cell_type": "markdown",
   "metadata": {},
   "source": [
    "#### Build model using Gradient descent"
   ]
  },
  {
   "cell_type": "code",
   "execution_count": null,
   "metadata": {},
   "outputs": [],
   "source": [
    "def create_model(x_list, y_list, learning rate, w_init, b_init):\n",
    "    "
   ]
  },
  {
   "cell_type": "markdown",
   "metadata": {},
   "source": []
  }
 ],
 "metadata": {
  "kernelspec": {
   "display_name": "Python 3",
   "language": "python",
   "name": "python3"
  },
  "language_info": {
   "codemirror_mode": {
    "name": "ipython",
    "version": 3
   },
   "file_extension": ".py",
   "mimetype": "text/x-python",
   "name": "python",
   "nbconvert_exporter": "python",
   "pygments_lexer": "ipython3",
   "version": "3.11.7"
  }
 },
 "nbformat": 4,
 "nbformat_minor": 2
}
